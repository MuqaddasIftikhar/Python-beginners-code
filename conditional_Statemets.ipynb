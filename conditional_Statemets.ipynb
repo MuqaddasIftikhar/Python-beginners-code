{
 "cells": [
  {
   "cell_type": "markdown",
   "metadata": {},
   "source": [
    "# Conditional Statements:\n",
    "1. logical Operators\n",
    "2. if\n",
    "3. else\n",
    "4. elif\n",
    "   "
   ]
  },
  {
   "cell_type": "code",
   "execution_count": 3,
   "metadata": {},
   "outputs": [
    {
     "name": "stdout",
     "output_type": "stream",
     "text": [
      "This statement is Valid.\n"
     ]
    }
   ],
   "source": [
    "x=2\n",
    "y=5\n",
    "if x<y:\n",
    "    print(\"This statement is Valid.\")\n",
    "    "
   ]
  },
  {
   "cell_type": "code",
   "execution_count": 5,
   "metadata": {},
   "outputs": [
    {
     "name": "stdout",
     "output_type": "stream",
     "text": [
      "This statement is Valid.\n"
     ]
    }
   ],
   "source": [
    "x=2\n",
    "y=5\n",
    "if x<y:\n",
    "    print(\"This statement is Valid.\")\n",
    "else:\n",
    "    print(\"This statement is Invalid.\")    "
   ]
  },
  {
   "cell_type": "code",
   "execution_count": 7,
   "metadata": {},
   "outputs": [
    {
     "name": "stdout",
     "output_type": "stream",
     "text": [
      "This statement is Valid.\n"
     ]
    }
   ],
   "source": [
    "x=5\n",
    "y=2\n",
    "if x>y:\n",
    "    print(\"This statement is Valid.\")\n",
    "elif x<y:\n",
    "    print(\"This statement is Invalid.\") \n",
    "else:\n",
    "    print(\"The statement is neither True nor False.\")       "
   ]
  },
  {
   "cell_type": "markdown",
   "metadata": {},
   "source": [
    "# Logical Operators"
   ]
  },
  {
   "cell_type": "code",
   "execution_count": 8,
   "metadata": {},
   "outputs": [
    {
     "name": "stdout",
     "output_type": "stream",
     "text": [
      "And Operator.\n"
     ]
    }
   ],
   "source": [
    "x=2\n",
    "y=3\n",
    "z=4\n",
    "if x<y and y<z:\n",
    "    print(\"And Operator.\")\n",
    "elif x<y or y>z:\n",
    "    print(\"OR Operator.\")\n",
    "else:\n",
    "    print(\"Neither AND Operator nor OR Operator.\")        "
   ]
  }
 ],
 "metadata": {
  "kernelspec": {
   "display_name": "base",
   "language": "python",
   "name": "python3"
  },
  "language_info": {
   "codemirror_mode": {
    "name": "ipython",
    "version": 3
   },
   "file_extension": ".py",
   "mimetype": "text/x-python",
   "name": "python",
   "nbconvert_exporter": "python",
   "pygments_lexer": "ipython3",
   "version": "3.10.9"
  },
  "orig_nbformat": 4
 },
 "nbformat": 4,
 "nbformat_minor": 2
}
