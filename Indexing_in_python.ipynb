{
 "cells": [
  {
   "cell_type": "markdown",
   "metadata": {},
   "source": [
    "# Indexing:"
   ]
  },
  {
   "cell_type": "code",
   "execution_count": 3,
   "metadata": {},
   "outputs": [
    {
     "name": "stdout",
     "output_type": "stream",
     "text": [
      "Jenny\n"
     ]
    }
   ],
   "source": [
    "names=\"Jenny\"\n",
    "print(names)"
   ]
  },
  {
   "cell_type": "code",
   "execution_count": 5,
   "metadata": {},
   "outputs": [
    {
     "name": "stdout",
     "output_type": "stream",
     "text": [
      "Jenny\n",
      "<class 'str'>\n"
     ]
    }
   ],
   "source": [
    "names=\"Jenny\"\n",
    "print(names)\n",
    "print(type(names))"
   ]
  },
  {
   "cell_type": "code",
   "execution_count": 9,
   "metadata": {},
   "outputs": [
    {
     "name": "stdout",
     "output_type": "stream",
     "text": [
      "Jenny\n",
      "<class 'str'>\n",
      "5\n"
     ]
    }
   ],
   "source": [
    "names=\"Jenny\"\n",
    "print(names)\n",
    "print(type(names))\n",
    "print(len(names))"
   ]
  },
  {
   "cell_type": "code",
   "execution_count": 16,
   "metadata": {},
   "outputs": [
    {
     "name": "stdout",
     "output_type": "stream",
     "text": [
      "Jenny\n",
      "J\n",
      "e\n",
      "n\n",
      "n\n",
      "y\n",
      "y\n",
      "n\n",
      "n\n",
      "e\n",
      "J\n"
     ]
    }
   ],
   "source": [
    "names=\"Jenny\"\n",
    "print(names)\n",
    "print(names[0])\n",
    "print(names[1])\n",
    "print(names[2])\n",
    "print(names[3])\n",
    "print(names[4])\n",
    "print(names[-1])\n",
    "print(names[-2])\n",
    "print(names[-3])\n",
    "print(names[-4])\n",
    "print(names[-5])\n"
   ]
  },
  {
   "cell_type": "code",
   "execution_count": 24,
   "metadata": {},
   "outputs": [
    {
     "name": "stdout",
     "output_type": "stream",
     "text": [
      "Jenny\n",
      "Jenny\n",
      "Je\n",
      "Jenn\n",
      "Jenny\n",
      "Jenny\n"
     ]
    }
   ],
   "source": [
    "names=\"Jenny\"\n",
    "print(names)\n",
    "print(names[0:])\n",
    "print(names[0:2])\n",
    "print(names[0:4])\n",
    "print(names[0:5])\n",
    "print(names[0:])"
   ]
  },
  {
   "cell_type": "code",
   "execution_count": 28,
   "metadata": {},
   "outputs": [
    {
     "name": "stdout",
     "output_type": "stream",
     "text": [
      "cat, lion, deer, rabbit, turtle\n",
      "31\n",
      "<class 'str'>\n"
     ]
    }
   ],
   "source": [
    "animals=\"cat, lion, deer, rabbit, turtle\"\n",
    "print(animals)\n",
    "print(len(animals))\n",
    "print(type(animals))"
   ]
  },
  {
   "cell_type": "code",
   "execution_count": 31,
   "metadata": {},
   "outputs": [
    {
     "name": "stdout",
     "output_type": "stream",
     "text": [
      "c\n",
      "a\n",
      "t\n",
      ",\n",
      " \n",
      "l\n",
      "cat, lion, deer, rabbit, turtle\n",
      "cat, lion, deer, rabbit, turtle\n"
     ]
    }
   ],
   "source": [
    "animals=\"cat, lion, deer, rabbit, turtle\"\n",
    "print(animals[0])\n",
    "print(animals[1])\n",
    "print(animals[2])\n",
    "print(animals[3])\n",
    "print(animals[4])\n",
    "print(animals[5])\n",
    "print(animals[0:31])\n",
    "print(animals[0:])"
   ]
  }
 ],
 "metadata": {
  "kernelspec": {
   "display_name": "base",
   "language": "python",
   "name": "python3"
  },
  "language_info": {
   "codemirror_mode": {
    "name": "ipython",
    "version": 3
   },
   "file_extension": ".py",
   "mimetype": "text/x-python",
   "name": "python",
   "nbconvert_exporter": "python",
   "pygments_lexer": "ipython3",
   "version": "3.10.9"
  },
  "orig_nbformat": 4
 },
 "nbformat": 4,
 "nbformat_minor": 2
}
